{
 "cells": [
  {
   "cell_type": "markdown",
   "source": [
    "# users table에 패스워드 넣기"
   ],
   "metadata": {}
  },
  {
   "cell_type": "code",
   "execution_count": 50,
   "source": [
    "import json\r\n",
    "import pymysql\r\n",
    "import pandas as pd\r\n",
    "\r\n",
    "with open('data/mysql.json', 'r') as file: \r\n",
    "    config_str = file.read() \r\n",
    "    config = json.loads(config_str)\r\n",
    "\r\n",
    "conn = pymysql.connect(\r\n",
    "    host = config['host'],\r\n",
    "    user = config['user'],\r\n",
    "    password=config['password'],\r\n",
    "    database=config['database'],\r\n",
    "    port=config['port']\r\n",
    ") "
   ],
   "outputs": [],
   "metadata": {}
  },
  {
   "cell_type": "markdown",
   "source": [
    "## 패스워드 암호화\r\n",
    "- secure hash algorithm(SHA-256) 단방향 평문 --> 비문 만드는 알고리즘"
   ],
   "metadata": {}
  },
  {
   "cell_type": "code",
   "execution_count": 51,
   "source": [
    "import hashlib\r\n",
    "pwd = '1234'\r\n",
    "pwd_sha256 = hashlib.sha256(pwd.encode())\r\n",
    "pwd_sha256.digest()"
   ],
   "outputs": [
    {
     "output_type": "execute_result",
     "data": {
      "text/plain": [
       "b'\\x03\\xacgB\\x16\\xf3\\xe1\\\\v\\x1e\\xe1\\xa5\\xe2U\\xf0g\\x956#\\xc8\\xb3\\x88\\xb4E\\x9e\\x13\\xf9x\\xd7\\xc8F\\xf4'"
      ]
     },
     "metadata": {},
     "execution_count": 51
    }
   ],
   "metadata": {}
  },
  {
   "cell_type": "markdown",
   "source": [
    "## Base64 로 인코딩"
   ],
   "metadata": {}
  },
  {
   "cell_type": "code",
   "execution_count": 52,
   "source": [
    "import base64\r\n",
    "base64.b64encode(pwd_sha256.digest()) #바이트형식"
   ],
   "outputs": [
    {
     "output_type": "execute_result",
     "data": {
      "text/plain": [
       "b'A6xnQhbz4Vx2HuGl4lXwZ5U2I8iziLRFnhP5eNfIRvQ='"
      ]
     },
     "metadata": {},
     "execution_count": 52
    }
   ],
   "metadata": {}
  },
  {
   "cell_type": "code",
   "execution_count": 53,
   "source": [
    "hash_pwd = base64.b64encode(pwd_sha256.digest()).decode('utf-8')\r\n",
    "hash_pwd #스트링 형식"
   ],
   "outputs": [
    {
     "output_type": "execute_result",
     "data": {
      "text/plain": [
       "'A6xnQhbz4Vx2HuGl4lXwZ5U2I8iziLRFnhP5eNfIRvQ='"
      ]
     },
     "metadata": {},
     "execution_count": 53
    }
   ],
   "metadata": {}
  },
  {
   "cell_type": "code",
   "execution_count": 54,
   "source": [
    "len(hash_pwd) #이래서 비밀번호 길이를 44로 해놓는다."
   ],
   "outputs": [
    {
     "output_type": "execute_result",
     "data": {
      "text/plain": [
       "44"
      ]
     },
     "metadata": {},
     "execution_count": 54
    }
   ],
   "metadata": {}
  },
  {
   "cell_type": "markdown",
   "source": [
    "## 패스워드를 생성하는 함수"
   ],
   "metadata": {}
  },
  {
   "cell_type": "code",
   "execution_count": 55,
   "source": [
    "import hashlib\r\n",
    "import base64\r\n",
    "def gen_pwd(pwd):\r\n",
    "    pwd_sha256 = hashlib.sha256(pwd.encode())\r\n",
    "    hash_pwd = base64.b64encode(pwd_sha256.digest()).decode('utf-8')\r\n",
    "    return hash_pwd"
   ],
   "outputs": [],
   "metadata": {}
  },
  {
   "cell_type": "code",
   "execution_count": 56,
   "source": [
    "gen_pwd('rhyou10')"
   ],
   "outputs": [
    {
     "output_type": "execute_result",
     "data": {
      "text/plain": [
       "'xmisexq+qMxqKkvf6dk8n0nPWJ1zGhM8UsrJmzXaXTc='"
      ]
     },
     "metadata": {},
     "execution_count": 56
    }
   ],
   "metadata": {}
  },
  {
   "cell_type": "markdown",
   "source": [
    "## user table의 패스워드 넣기\r\n",
    "- uid + 21 ==> pwd 설정한다는 가정"
   ],
   "metadata": {}
  },
  {
   "cell_type": "code",
   "execution_count": 57,
   "source": [
    "sql = \"\"\"\r\n",
    "    select uid\r\n",
    "    from users\r\n",
    "\"\"\"\r\n",
    "cur = conn.cursor()\r\n",
    "cur.execute(sql)\r\n",
    "result = cur.fetchall()\r\n",
    "result"
   ],
   "outputs": [
    {
     "output_type": "execute_result",
     "data": {
      "text/plain": [
       "(('admin',),\n",
       " ('djy',),\n",
       " ('eskim',),\n",
       " ('gdhong',),\n",
       " ('gdhong2',),\n",
       " ('jbpark',),\n",
       " ('jbpark2',),\n",
       " ('wjlee',))"
      ]
     },
     "metadata": {},
     "execution_count": 57
    }
   ],
   "metadata": {}
  },
  {
   "cell_type": "code",
   "execution_count": 58,
   "source": [
    "sql = \"\"\"\r\n",
    "    UPDATE users \r\n",
    "    SET pwd=%s\r\n",
    "    WHERE uid=%s;\r\n",
    "\"\"\"\r\n",
    "for line in result:\r\n",
    "    uid = line[0]\r\n",
    "    pwd = gen_pwd(uid+'21')\r\n",
    "    cur.execute(sql,(pwd, uid))\r\n",
    "\r\n",
    "conn.commit()  "
   ],
   "outputs": [],
   "metadata": {}
  },
  {
   "cell_type": "code",
   "execution_count": 59,
   "source": [
    "sql_email = 'update users set email=%s where uid=%s;'\r\n",
    "for line in result:\r\n",
    "    uid = line[0]\r\n",
    "    email = uid + '@mc.com'\r\n",
    "    cur.execute(sql_email, (email, uid))\r\n",
    "conn.commit()  "
   ],
   "outputs": [],
   "metadata": {}
  },
  {
   "cell_type": "markdown",
   "source": [
    "## 로그인"
   ],
   "metadata": {}
  },
  {
   "cell_type": "markdown",
   "source": [
    "### case 1: uid가 없는 경우"
   ],
   "metadata": {}
  },
  {
   "cell_type": "code",
   "execution_count": 60,
   "source": [
    "sql_login = \"\"\"\r\n",
    "    select uid, pwd\r\n",
    "    from users\r\n",
    "    where uid = %s and is_deleted= 0\r\n",
    "\"\"\""
   ],
   "outputs": [],
   "metadata": {}
  },
  {
   "cell_type": "code",
   "execution_count": 61,
   "source": [
    "#uid 임시설정\r\n",
    "#없는경우 result는 null이 된다\r\n",
    "uid = 'fool'\r\n",
    "cur.execute(sql_login,(uid,))\r\n",
    "result = cur.fetchone()\r\n",
    "result"
   ],
   "outputs": [],
   "metadata": {}
  },
  {
   "cell_type": "markdown",
   "source": [
    "### case 2: 비밀번호가 틀린 경우"
   ],
   "metadata": {}
  },
  {
   "cell_type": "code",
   "execution_count": 62,
   "source": [
    "uid, pwd = 'djy', 'djy20'\r\n",
    "cur.execute(sql_login,(uid,))\r\n",
    "result = cur.fetchone()\r\n",
    "result"
   ],
   "outputs": [
    {
     "output_type": "execute_result",
     "data": {
      "text/plain": [
       "('djy', 'mxsnWYLpB/nAOt37fpt3PMXpGGQprktT3vm2p9RfFyY=')"
      ]
     },
     "metadata": {},
     "execution_count": 62
    }
   ],
   "metadata": {}
  },
  {
   "cell_type": "code",
   "execution_count": 63,
   "source": [
    "db_pwd = result[1]\r\n",
    "hash_pwd = gen_pwd(pwd)\r\n",
    "if db_pwd == hash_pwd:\r\n",
    "    print('login')\r\n",
    "else:\r\n",
    "    print('password 틀림')"
   ],
   "outputs": [
    {
     "output_type": "stream",
     "name": "stdout",
     "text": [
      "password 틀림\n"
     ]
    }
   ],
   "metadata": {}
  },
  {
   "cell_type": "markdown",
   "source": [
    "### case 3: 둘다 맞은경우"
   ],
   "metadata": {}
  },
  {
   "cell_type": "code",
   "execution_count": 64,
   "source": [
    "uid, pwd = 'djy', 'djy21'\r\n",
    "cur.execute(sql_login,(uid,))\r\n",
    "result = cur.fetchone()\r\n",
    "result"
   ],
   "outputs": [
    {
     "output_type": "execute_result",
     "data": {
      "text/plain": [
       "('djy', 'mxsnWYLpB/nAOt37fpt3PMXpGGQprktT3vm2p9RfFyY=')"
      ]
     },
     "metadata": {},
     "execution_count": 64
    }
   ],
   "metadata": {}
  },
  {
   "cell_type": "code",
   "execution_count": 65,
   "source": [
    "db_pwd = result[1]\r\n",
    "hash_pwd = gen_pwd(pwd)\r\n",
    "if db_pwd == hash_pwd:\r\n",
    "    print('login')\r\n",
    "else:\r\n",
    "    print('password 틀림')"
   ],
   "outputs": [
    {
     "output_type": "stream",
     "name": "stdout",
     "text": [
      "login\n"
     ]
    }
   ],
   "metadata": {}
  },
  {
   "cell_type": "markdown",
   "source": [
    "### 3가지 합침"
   ],
   "metadata": {}
  },
  {
   "cell_type": "code",
   "execution_count": 66,
   "source": [
    "uid, pwd = 'djy', 'djy21'\r\n",
    "cur.execute(sql_login,(uid,))\r\n",
    "result = cur.fetchone()\r\n",
    "if result: #없으면 아이디가 없어서 null값 리턴\r\n",
    "    db_pwd = result[1]\r\n",
    "    hash_pwd = gen_pwd(pwd)\r\n",
    "    if db_pwd == hash_pwd:\r\n",
    "        print('login')\r\n",
    "    else:\r\n",
    "        print('password 틀림')\r\n",
    "else:\r\n",
    "    print('잘못된 아이디')"
   ],
   "outputs": [
    {
     "output_type": "stream",
     "name": "stdout",
     "text": [
      "login\n"
     ]
    }
   ],
   "metadata": {}
  },
  {
   "cell_type": "markdown",
   "source": [
    "### 예외처리를 통해 해결한는 경우"
   ],
   "metadata": {}
  },
  {
   "cell_type": "code",
   "execution_count": 67,
   "source": [
    "uid, pwd = 'djy', 'djy21'\r\n",
    "cur.execute(sql_login,(uid,))\r\n",
    "result = cur.fetchone()\r\n",
    "try: #없으면 아이디가 없어서 null값 리턴\r\n",
    "    db_pwd = result[1] #result가 비어잆어서 try 가능\r\n",
    "    hash_pwd = gen_pwd(pwd)\r\n",
    "    if db_pwd == hash_pwd:\r\n",
    "        print('login')\r\n",
    "    else:\r\n",
    "        print('password 틀림')\r\n",
    "except:\r\n",
    "    print('잘못된 아이디')"
   ],
   "outputs": [
    {
     "output_type": "stream",
     "name": "stdout",
     "text": [
      "login\n"
     ]
    }
   ],
   "metadata": {}
  },
  {
   "cell_type": "code",
   "execution_count": 68,
   "source": [
    "## 매무리\r\n",
    "\r\n",
    "cur.close()\r\n",
    "conn.close()"
   ],
   "outputs": [],
   "metadata": {}
  }
 ],
 "metadata": {
  "orig_nbformat": 4,
  "language_info": {
   "name": "python",
   "version": "3.8.10",
   "mimetype": "text/x-python",
   "codemirror_mode": {
    "name": "ipython",
    "version": 3
   },
   "pygments_lexer": "ipython3",
   "nbconvert_exporter": "python",
   "file_extension": ".py"
  },
  "kernelspec": {
   "name": "python3",
   "display_name": "Python 3.8.10 64-bit ('base': conda)"
  },
  "interpreter": {
   "hash": "345fc451c7e0336b9390ad1fad588039702f89ec6d37597eff879e480e25ffdb"
  }
 },
 "nbformat": 4,
 "nbformat_minor": 2
}