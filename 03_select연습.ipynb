{
 "cells": [
  {
   "cell_type": "code",
   "execution_count": 9,
   "source": [
    "import json\r\n",
    "import pymysql\r\n",
    "import pandas as pd"
   ],
   "outputs": [],
   "metadata": {}
  },
  {
   "cell_type": "code",
   "execution_count": 2,
   "source": [
    "with open('data/mysql.json', 'r') as file: \r\n",
    "    config_str = file.read() \r\n",
    "    config = json.loads(config_str)\r\n",
    "    \r\n",
    "conn = pymysql.connect(\r\n",
    "    host = config['host'],\r\n",
    "    user = config['user'],\r\n",
    "    password=config['password'],\r\n",
    "    database=config['database'],\r\n",
    "    port=config['port']\r\n",
    ") "
   ],
   "outputs": [],
   "metadata": {}
  },
  {
   "cell_type": "markdown",
   "source": [
    "## 데이터 조회"
   ],
   "metadata": {}
  },
  {
   "cell_type": "markdown",
   "source": [
    "### 1건조회"
   ],
   "metadata": {}
  },
  {
   "cell_type": "code",
   "execution_count": 3,
   "source": [
    "sql_select = '''\r\n",
    "    SELECT uid, uname, email,\r\n",
    "    DATE_FORMAT(reg_date, '%y-%m-%d %l:%i') AS reg_date\r\n",
    "    FROM users\r\n",
    "    WHERE is_deleted=0\r\n",
    "    ORDER BY reg_date\r\n",
    "'''\r\n",
    "cur = conn.cursor()\r\n",
    "cur.execute(sql_select)\r\n",
    "row = cur.fetchone()\r\n",
    "row"
   ],
   "outputs": [
    {
     "output_type": "execute_result",
     "data": {
      "text/plain": [
       "('admin', '관리자', None, '21-08-25 1:28')"
      ]
     },
     "metadata": {},
     "execution_count": 3
    }
   ],
   "metadata": {}
  },
  {
   "cell_type": "markdown",
   "source": [
    "### 여러건 조회"
   ],
   "metadata": {}
  },
  {
   "cell_type": "code",
   "execution_count": 7,
   "source": [
    "cur.execute(sql_select)\r\n",
    "rows = cur.fetchmany(3)\r\n",
    "rows\r\n"
   ],
   "outputs": [
    {
     "output_type": "execute_result",
     "data": {
      "text/plain": [
       "(('admin', '관리자', None, '21-08-25 1:28'),\n",
       " ('eskim', '김은숙', None, '21-08-25 1:37'),\n",
       " ('wjlee', '이우정', None, '21-08-25 1:37'))"
      ]
     },
     "metadata": {},
     "execution_count": 7
    }
   ],
   "metadata": {}
  },
  {
   "cell_type": "code",
   "execution_count": 8,
   "source": [
    "cur.execute(sql_select)\r\n",
    "row_all = cur.fetchall()\r\n",
    "row_all"
   ],
   "outputs": [
    {
     "output_type": "execute_result",
     "data": {
      "text/plain": [
       "(('admin', '관리자', None, '21-08-25 1:28'),\n",
       " ('eskim', '김은숙', None, '21-08-25 1:37'),\n",
       " ('wjlee', '이우정', None, '21-08-25 1:37'),\n",
       " ('djy', '대조영', None, '21-08-25 1:44'),\n",
       " ('gdhong', '홍길동', None, '21-08-25 1:54'),\n",
       " ('jbpark', '박재범', None, '21-08-25 1:54'))"
      ]
     },
     "metadata": {},
     "execution_count": 8
    }
   ],
   "metadata": {}
  },
  {
   "cell_type": "markdown",
   "source": [
    "### 반복문 사용"
   ],
   "metadata": {}
  },
  {
   "cell_type": "code",
   "execution_count": 12,
   "source": [
    "cur.execute(sql_select)\r\n",
    "for row in cur:\r\n",
    "    print(row)"
   ],
   "outputs": [
    {
     "output_type": "stream",
     "name": "stdout",
     "text": [
      "('admin', '관리자', None, '21-08-25 1:28')\n",
      "('eskim', '김은숙', None, '21-08-25 1:37')\n",
      "('wjlee', '이우정', None, '21-08-25 1:37')\n",
      "('djy', '대조영', None, '21-08-25 1:44')\n",
      "('gdhong', '홍길동', None, '21-08-25 1:54')\n",
      "('jbpark', '박재범', None, '21-08-25 1:54')\n"
     ]
    }
   ],
   "metadata": {}
  },
  {
   "cell_type": "code",
   "execution_count": 15,
   "source": [
    "cur.execute(sql_select)\r\n",
    "cur"
   ],
   "outputs": [
    {
     "output_type": "execute_result",
     "data": {
      "text/plain": [
       "<pymysql.cursors.Cursor at 0x2225a533940>"
      ]
     },
     "metadata": {},
     "execution_count": 15
    }
   ],
   "metadata": {}
  },
  {
   "cell_type": "markdown",
   "source": [
    "## 데이터 검색"
   ],
   "metadata": {}
  },
  {
   "cell_type": "code",
   "execution_count": 23,
   "source": [
    "uid = ('eskim')\r\n",
    "sql_search = \"\"\"\r\n",
    "    SELECT uid, uname, email,\r\n",
    "    DATE_FORMAT(reg_date, '%%y-%%m-%%d %%l:%%i') AS reg_date\r\n",
    "    FROM users\r\n",
    "    WHERE is_deleted=0 AND uid = %s;\r\n",
    "\"\"\"#플레이스 홀더 같이 쓸려면"
   ],
   "outputs": [],
   "metadata": {}
  },
  {
   "cell_type": "code",
   "execution_count": 27,
   "source": [
    "cur.execute(sql_search, (uid, ))\r\n",
    "result = cur.fetchone()\r\n",
    "result"
   ],
   "outputs": [
    {
     "output_type": "execute_result",
     "data": {
      "text/plain": [
       "('eskim', '김은숙', None, '21-08-25 1:37')"
      ]
     },
     "metadata": {},
     "execution_count": 27
    }
   ],
   "metadata": {}
  },
  {
   "cell_type": "markdown",
   "source": [
    "### 데이터가 없는경우"
   ],
   "metadata": {}
  },
  {
   "cell_type": "code",
   "execution_count": 28,
   "source": [
    "uid = ('park')\r\n",
    "cur.execute(sql_search, (uid, ))\r\n",
    "result = cur.fetchone()\r\n",
    "result #다른 언어의 경우 에러발생 가능해 예외처리해야한다"
   ],
   "outputs": [],
   "metadata": {}
  },
  {
   "cell_type": "code",
   "execution_count": 30,
   "source": [
    "def p_result(result):\r\n",
    "    if result:\r\n",
    "        print(result)\r\n",
    "    else:\r\n",
    "        print('데이터 없습니다.')"
   ],
   "outputs": [],
   "metadata": {}
  },
  {
   "cell_type": "code",
   "execution_count": 31,
   "source": [
    "uid = ('park')\r\n",
    "cur.execute(sql_search, (uid, ))\r\n",
    "result = cur.fetchone()\r\n",
    "p_result(result)"
   ],
   "outputs": [
    {
     "output_type": "stream",
     "name": "stdout",
     "text": [
      "데이터 없습니다.\n"
     ]
    }
   ],
   "metadata": {}
  },
  {
   "cell_type": "code",
   "execution_count": 32,
   "source": [
    "cur.close()\r\n",
    "conn.close()"
   ],
   "outputs": [],
   "metadata": {}
  }
 ],
 "metadata": {
  "orig_nbformat": 4,
  "language_info": {
   "name": "python",
   "version": "3.8.10",
   "mimetype": "text/x-python",
   "codemirror_mode": {
    "name": "ipython",
    "version": 3
   },
   "pygments_lexer": "ipython3",
   "nbconvert_exporter": "python",
   "file_extension": ".py"
  },
  "kernelspec": {
   "name": "python3",
   "display_name": "Python 3.8.10 64-bit ('base': conda)"
  },
  "interpreter": {
   "hash": "345fc451c7e0336b9390ad1fad588039702f89ec6d37597eff879e480e25ffdb"
  }
 },
 "nbformat": 4,
 "nbformat_minor": 2
}