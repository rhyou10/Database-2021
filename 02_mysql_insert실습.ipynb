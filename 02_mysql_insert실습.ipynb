{
 "cells": [
  {
   "cell_type": "markdown",
   "source": [
    "# my sql 테이블 생성 및 IO"
   ],
   "metadata": {}
  },
  {
   "cell_type": "code",
   "execution_count": 3,
   "source": [
    "import json\r\n",
    "import pymysql"
   ],
   "outputs": [],
   "metadata": {}
  },
  {
   "cell_type": "code",
   "execution_count": 4,
   "source": [
    "with open('data/mysql.json', 'r') as file: \r\n",
    "    config_str = file.read() \r\n",
    "    config = json.loads(config_str)\r\n",
    "    \r\n",
    "conn = pymysql.connect(\r\n",
    "    host = config['host'],\r\n",
    "    user = config['user'],\r\n",
    "    password=config['password'],\r\n",
    "    database=config['database'],\r\n",
    "    port=config['port']\r\n",
    ") "
   ],
   "outputs": [],
   "metadata": {}
  },
  {
   "cell_type": "markdown",
   "source": [
    "## 테이블 생성"
   ],
   "metadata": {}
  },
  {
   "cell_type": "code",
   "execution_count": 6,
   "source": [
    "cur = conn.cursor()\r\n",
    "sql_c_t ='''\r\n",
    "    create table if not EXISTS users (\r\n",
    "        uid varchar(20) not null primary KEY,\r\n",
    "        pwd char(44) not null, uname varchar(20) not NULL,\r\n",
    "        email varchar(40),\r\n",
    "        reg_date datetime default CURRENT_TIMESTAMP,\r\n",
    "        is_deleted int default 0\r\n",
    "    );\r\n",
    "'''\r\n",
    "cur.execute(sql_c_t)\r\n"
   ],
   "outputs": [
    {
     "output_type": "execute_result",
     "data": {
      "text/plain": [
       "0"
      ]
     },
     "metadata": {},
     "execution_count": 6
    }
   ],
   "metadata": {}
  },
  {
   "cell_type": "markdown",
   "source": [
    "## 데이터 추가"
   ],
   "metadata": {}
  },
  {
   "cell_type": "code",
   "execution_count": null,
   "source": [
    "sql_insert='''\r\n",
    "    INSERT INTO users(uid, uname, pwd) VALUES('admin', '관리자', '1234');\r\n",
    "'''\r\n",
    "cur.execute(sql_insert)"
   ],
   "outputs": [],
   "metadata": {}
  },
  {
   "cell_type": "code",
   "execution_count": 9,
   "source": [
    "sql_select='''\r\n",
    "    select * from users\r\n",
    "    '''\r\n",
    "cur.execute(sql_select)\r\n",
    "row = cur.fetchone()"
   ],
   "outputs": [],
   "metadata": {}
  },
  {
   "cell_type": "code",
   "execution_count": 10,
   "source": [
    "row"
   ],
   "outputs": [
    {
     "output_type": "execute_result",
     "data": {
      "text/plain": [
       "('admin', '1234', '관리자', None, datetime.datetime(2021, 8, 25, 13, 28, 28), 0)"
      ]
     },
     "metadata": {},
     "execution_count": 10
    }
   ],
   "metadata": {}
  },
  {
   "cell_type": "markdown",
   "source": [
    "# 위에 것들은 캐쉬메모리에 써져있다\r\n",
    "# 이상태에서 db 보면 추가 안되어 있다\r\n",
    "# 확실히 쓰게 하는명령어 conn.commit()"
   ],
   "metadata": {}
  },
  {
   "cell_type": "code",
   "execution_count": 11,
   "source": [
    "conn.commit() # 확실히 db 로 보내는 명령어 conn.commit()"
   ],
   "outputs": [],
   "metadata": {}
  },
  {
   "cell_type": "markdown",
   "source": [
    "### 여러건의 데이터 추가"
   ],
   "metadata": {}
  },
  {
   "cell_type": "code",
   "execution_count": 13,
   "source": [
    "sql_multi_insert=\"\"\"\r\n",
    "    INSERT INTO users(uid, pwd, uname) VALUES\r\n",
    "    ('eskim', '1234', '김은숙'), \r\n",
    "    ('wjlee', '1234', '이우정');\r\n",
    "\"\"\"\r\n",
    "cur.execute(sql_multi_insert)\r\n",
    "conn.commit()\r\n"
   ],
   "outputs": [],
   "metadata": {}
  },
  {
   "cell_type": "code",
   "execution_count": 14,
   "source": [
    "sql_insert_ph = \"\"\"\r\n",
    "INSERT INTO users(uid, pwd, uname) VALUES(%s, '1234', %s);\r\n",
    "\"\"\"\r\n",
    "uid, uname = 'djy', '대조영'\r\n",
    "cur.execute(sql_insert_ph,(uid, uname)) #튜플로 넣는다\r\n",
    "conn.commit()"
   ],
   "outputs": [],
   "metadata": {}
  },
  {
   "cell_type": "markdown",
   "source": [
    "### 여러건의 데이터를 placeholder를 이용해서 insert"
   ],
   "metadata": {}
  },
  {
   "cell_type": "code",
   "execution_count": 17,
   "source": [
    "users = (('gdhong', '홍길동'), ('jbpark', '박재범'))\r\n",
    "\r\n",
    "sql_insert_ph = \"\"\"\r\n",
    "    insert into users(uid, pwd, uname) values(%s, '1234', %s);\r\n",
    "\"\"\"\r\n"
   ],
   "outputs": [],
   "metadata": {}
  },
  {
   "cell_type": "code",
   "execution_count": 19,
   "source": [
    "cur.executemany(sql_insert_ph, users)\r\n",
    "conn.commit()"
   ],
   "outputs": [],
   "metadata": {}
  },
  {
   "cell_type": "code",
   "execution_count": 21,
   "source": [
    "#강사 추천\r\n",
    "users = (('gdhong2', '홍길동'), ('jbpark2', '박재범'))\r\n",
    "for user in users:\r\n",
    "    cur.execute(sql_insert_ph, user)\r\n",
    "conn.commit()\r\n"
   ],
   "outputs": [],
   "metadata": {}
  },
  {
   "cell_type": "markdown",
   "source": [
    "## 매무리"
   ],
   "metadata": {}
  },
  {
   "cell_type": "code",
   "execution_count": 22,
   "source": [
    "cur.close()\r\n",
    "conn.close()"
   ],
   "outputs": [],
   "metadata": {}
  }
 ],
 "metadata": {
  "orig_nbformat": 4,
  "language_info": {
   "name": "python",
   "version": "3.8.10",
   "mimetype": "text/x-python",
   "codemirror_mode": {
    "name": "ipython",
    "version": 3
   },
   "pygments_lexer": "ipython3",
   "nbconvert_exporter": "python",
   "file_extension": ".py"
  },
  "kernelspec": {
   "name": "python3",
   "display_name": "Python 3.8.10 64-bit ('base': conda)"
  },
  "interpreter": {
   "hash": "345fc451c7e0336b9390ad1fad588039702f89ec6d37597eff879e480e25ffdb"
  }
 },
 "nbformat": 4,
 "nbformat_minor": 2
}