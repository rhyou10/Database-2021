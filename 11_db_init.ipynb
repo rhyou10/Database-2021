{
 "cells": [
  {
   "cell_type": "code",
   "execution_count": 59,
   "source": [
    "import db_util as db\r\n",
    "import json\r\n",
    "import pymysql\r\n",
    "import random\r\n",
    "import pandas as pd"
   ],
   "outputs": [],
   "metadata": {}
  },
  {
   "cell_type": "code",
   "execution_count": 56,
   "source": [
    "with open('data/mysql.json', 'r') as file: \r\n",
    "    config_str = file.read() \r\n",
    "    config = json.loads(config_str)"
   ],
   "outputs": [],
   "metadata": {}
  },
  {
   "cell_type": "code",
   "execution_count": 47,
   "source": [
    "db.dl_db('products')\r\n",
    "db.dl_db('sales')"
   ],
   "outputs": [],
   "metadata": {}
  },
  {
   "cell_type": "code",
   "execution_count": 48,
   "source": [
    "db.mk_pdb()\r\n",
    "db.mk_sdb()"
   ],
   "outputs": [],
   "metadata": {}
  },
  {
   "cell_type": "markdown",
   "source": [
    "카테고리  \r\n",
    "자동차, 인테리어, 과자\r\n",
    "#product db 만들기  pid, 제품명, 가격, 카테고리, 원가"
   ],
   "metadata": {}
  },
  {
   "cell_type": "code",
   "execution_count": 49,
   "source": [
    "cat = ['자동차관련', '가전제품 및 인테리어', '과자']\r\n",
    "car = ['와이퍼', '타이어', '핸들', '휠', '시트', '에어컨', '뺵미러', '엔진', '엔진오일', '내비게이션']\r\n",
    "inte = ['김치냉장고', '냉장고', '컴퓨터', '식기세척기', '책상', '의자', '티비', '전자레인지', '오븐', '인덕션']\r\n",
    "snack = ['맛동산', '바나나킥', '빈츠', '오감자', '초코파이', '몽쉘', '참치크래커', '고향만두', '닭강정', '오레오']"
   ],
   "outputs": [],
   "metadata": {}
  },
  {
   "cell_type": "code",
   "execution_count": 50,
   "source": [
    "sql = \"\"\"\r\n",
    "INSERT INTO products(pname , pprice , pcategory , pcost) \r\n",
    "VALUES(%s, %s, %s, %s)\r\n",
    "\"\"\"\r\n",
    "conn = pymysql.connect(**config)\r\n",
    "cur = conn.cursor()"
   ],
   "outputs": [],
   "metadata": {}
  },
  {
   "cell_type": "code",
   "execution_count": 51,
   "source": [
    "import random\r\n",
    "random.seed(2021)\r\n",
    "for i, item_list in enumerate([car, inte, snack]):\r\n",
    "    for item in item_list:\r\n",
    "        #가격\r\n",
    "        price = random.randint(100, 500)*100\r\n",
    "        cost = int(price * (random.randint(55,99)/100))\r\n",
    "        cur.execute(sql, (item, price, cat[i], cost))\r\n",
    "        #db.i_pdb([item, price,cat[i], cost]) 모듈쓰면 시간 너무 길어진다\r\n",
    "        #원가\r\n",
    "conn.commit()"
   ],
   "outputs": [],
   "metadata": {}
  },
  {
   "cell_type": "markdown",
   "source": [
    "달력 랜덤\r\n",
    "1~ 12 랜덤, 1~ 28 랜덤\r\n",
    "date, scompany , spid, sunit\r\n",
    "\r\n",
    "회사는 5개 sid 는 랜덤하계 한번씩 나오도록 가능\r\n",
    "판 횟수도 랜던 "
   ],
   "metadata": {}
  },
  {
   "cell_type": "code",
   "execution_count": 52,
   "source": [
    "sql = \"\"\"\r\n",
    "    INSERT INTO sales(sdate, scompany , spid, sunit) \r\n",
    "    VALUES(%s, %s, %s, %s)\r\n",
    "\"\"\"\r\n",
    "conn = pymysql.connect(**config)\r\n",
    "cur = conn.cursor()"
   ],
   "outputs": [],
   "metadata": {}
  },
  {
   "cell_type": "code",
   "execution_count": 53,
   "source": [
    "calendar = {1:31,2:29,3:31,4:30,5:31,6:30,7:31,8:31,9:30,10:31,11:30,12:31}\r\n",
    "random.seed(2021)\r\n",
    "companys = ['송샘', 'RG', 'DOROKO', 'glo', '다이서']\r\n",
    "for m, day in calendar.items():\r\n",
    "    for i in range(10):\r\n",
    "        date = f'2020-{m}-{random.randint(1,day)}'\r\n",
    "        company = companys[random.randint(0,4)]\r\n",
    "        spid = random.randint(1,30)\r\n",
    "        sunit = random.randint(10,20)\r\n",
    "        cur.execute(sql, (date, company, spid, sunit))\r\n",
    "        #db.i_sdb([date, company, spid, sunit]) 모듈쓰면 시간 너무 길어진다\r\n",
    "\r\n",
    "conn.commit()"
   ],
   "outputs": [],
   "metadata": {}
  },
  {
   "cell_type": "code",
   "execution_count": 57,
   "source": [
    "sql = \"\"\"\r\n",
    "    CREATE VIEW sales_book as\r\n",
    "        SELECT sid, sdate, scompany, pid, pname, pcategory, pprice, sunit, pcost,\r\n",
    "            pprice*sunit AS revenue, (pprice-pcost)*sunit AS profit\r\n",
    "        FROM sales\r\n",
    "        JOIN products\r\n",
    "        ON sales.spid = products.pid\r\n",
    "        ORDER BY sdate;\r\n",
    "\"\"\"\r\n",
    "conn = pymysql.connect(**config)\r\n",
    "cur = conn.cursor()\r\n",
    "cur.execute(sql)"
   ],
   "outputs": [
    {
     "output_type": "execute_result",
     "data": {
      "text/plain": [
       "0"
      ]
     },
     "metadata": {},
     "execution_count": 57
    }
   ],
   "metadata": {}
  },
  {
   "cell_type": "code",
   "execution_count": 60,
   "source": [
    "sql = 'select * from sales_book'\r\n",
    "cur.execute(sql)\r\n",
    "results = cur.fetchall()\r\n",
    "\r\n",
    "df = pd.DataFrame(results)\r\n",
    "df.head()"
   ],
   "outputs": [
    {
     "output_type": "execute_result",
     "data": {
      "text/plain": [
       "    0           1       2   3     4            5      6   7      8       9   \\\n",
       "0  103  2020-01-02     glo  16    의자  가전제품 및 인테리어  42500  19  35275  807500   \n",
       "1  104  2020-01-03  DOROKO   9  엔진오일        자동차관련  18200  14  11830  254800   \n",
       "2  106  2020-01-06      송샘  24   오감자           과자  15900  11  15264  174900   \n",
       "3  105  2020-01-16      송샘  30   오레오           과자  48700  12  33603  584400   \n",
       "4  110  2020-01-17  DOROKO  22  바나나킥           과자  22400  15  18816  336000   \n",
       "\n",
       "       10  \n",
       "0  137275  \n",
       "1   89180  \n",
       "2    6996  \n",
       "3  181164  \n",
       "4   53760  "
      ],
      "text/html": [
       "<div>\n",
       "<style scoped>\n",
       "    .dataframe tbody tr th:only-of-type {\n",
       "        vertical-align: middle;\n",
       "    }\n",
       "\n",
       "    .dataframe tbody tr th {\n",
       "        vertical-align: top;\n",
       "    }\n",
       "\n",
       "    .dataframe thead th {\n",
       "        text-align: right;\n",
       "    }\n",
       "</style>\n",
       "<table border=\"1\" class=\"dataframe\">\n",
       "  <thead>\n",
       "    <tr style=\"text-align: right;\">\n",
       "      <th></th>\n",
       "      <th>0</th>\n",
       "      <th>1</th>\n",
       "      <th>2</th>\n",
       "      <th>3</th>\n",
       "      <th>4</th>\n",
       "      <th>5</th>\n",
       "      <th>6</th>\n",
       "      <th>7</th>\n",
       "      <th>8</th>\n",
       "      <th>9</th>\n",
       "      <th>10</th>\n",
       "    </tr>\n",
       "  </thead>\n",
       "  <tbody>\n",
       "    <tr>\n",
       "      <th>0</th>\n",
       "      <td>103</td>\n",
       "      <td>2020-01-02</td>\n",
       "      <td>glo</td>\n",
       "      <td>16</td>\n",
       "      <td>의자</td>\n",
       "      <td>가전제품 및 인테리어</td>\n",
       "      <td>42500</td>\n",
       "      <td>19</td>\n",
       "      <td>35275</td>\n",
       "      <td>807500</td>\n",
       "      <td>137275</td>\n",
       "    </tr>\n",
       "    <tr>\n",
       "      <th>1</th>\n",
       "      <td>104</td>\n",
       "      <td>2020-01-03</td>\n",
       "      <td>DOROKO</td>\n",
       "      <td>9</td>\n",
       "      <td>엔진오일</td>\n",
       "      <td>자동차관련</td>\n",
       "      <td>18200</td>\n",
       "      <td>14</td>\n",
       "      <td>11830</td>\n",
       "      <td>254800</td>\n",
       "      <td>89180</td>\n",
       "    </tr>\n",
       "    <tr>\n",
       "      <th>2</th>\n",
       "      <td>106</td>\n",
       "      <td>2020-01-06</td>\n",
       "      <td>송샘</td>\n",
       "      <td>24</td>\n",
       "      <td>오감자</td>\n",
       "      <td>과자</td>\n",
       "      <td>15900</td>\n",
       "      <td>11</td>\n",
       "      <td>15264</td>\n",
       "      <td>174900</td>\n",
       "      <td>6996</td>\n",
       "    </tr>\n",
       "    <tr>\n",
       "      <th>3</th>\n",
       "      <td>105</td>\n",
       "      <td>2020-01-16</td>\n",
       "      <td>송샘</td>\n",
       "      <td>30</td>\n",
       "      <td>오레오</td>\n",
       "      <td>과자</td>\n",
       "      <td>48700</td>\n",
       "      <td>12</td>\n",
       "      <td>33603</td>\n",
       "      <td>584400</td>\n",
       "      <td>181164</td>\n",
       "    </tr>\n",
       "    <tr>\n",
       "      <th>4</th>\n",
       "      <td>110</td>\n",
       "      <td>2020-01-17</td>\n",
       "      <td>DOROKO</td>\n",
       "      <td>22</td>\n",
       "      <td>바나나킥</td>\n",
       "      <td>과자</td>\n",
       "      <td>22400</td>\n",
       "      <td>15</td>\n",
       "      <td>18816</td>\n",
       "      <td>336000</td>\n",
       "      <td>53760</td>\n",
       "    </tr>\n",
       "  </tbody>\n",
       "</table>\n",
       "</div>"
      ]
     },
     "metadata": {},
     "execution_count": 60
    }
   ],
   "metadata": {}
  },
  {
   "cell_type": "code",
   "execution_count": 61,
   "source": [
    "del df[3]\r\n",
    "del df[0]"
   ],
   "outputs": [],
   "metadata": {}
  },
  {
   "cell_type": "code",
   "execution_count": 62,
   "source": [
    "df.columns = ['판매일자','판매처','상품명','카테고리','단가','수량','원가','매출액','이익']\r\n",
    "df.head()"
   ],
   "outputs": [
    {
     "output_type": "execute_result",
     "data": {
      "text/plain": [
       "         판매일자     판매처   상품명         카테고리     단가  수량     원가     매출액      이익\n",
       "0  2020-01-02     glo    의자  가전제품 및 인테리어  42500  19  35275  807500  137275\n",
       "1  2020-01-03  DOROKO  엔진오일        자동차관련  18200  14  11830  254800   89180\n",
       "2  2020-01-06      송샘   오감자           과자  15900  11  15264  174900    6996\n",
       "3  2020-01-16      송샘   오레오           과자  48700  12  33603  584400  181164\n",
       "4  2020-01-17  DOROKO  바나나킥           과자  22400  15  18816  336000   53760"
      ],
      "text/html": [
       "<div>\n",
       "<style scoped>\n",
       "    .dataframe tbody tr th:only-of-type {\n",
       "        vertical-align: middle;\n",
       "    }\n",
       "\n",
       "    .dataframe tbody tr th {\n",
       "        vertical-align: top;\n",
       "    }\n",
       "\n",
       "    .dataframe thead th {\n",
       "        text-align: right;\n",
       "    }\n",
       "</style>\n",
       "<table border=\"1\" class=\"dataframe\">\n",
       "  <thead>\n",
       "    <tr style=\"text-align: right;\">\n",
       "      <th></th>\n",
       "      <th>판매일자</th>\n",
       "      <th>판매처</th>\n",
       "      <th>상품명</th>\n",
       "      <th>카테고리</th>\n",
       "      <th>단가</th>\n",
       "      <th>수량</th>\n",
       "      <th>원가</th>\n",
       "      <th>매출액</th>\n",
       "      <th>이익</th>\n",
       "    </tr>\n",
       "  </thead>\n",
       "  <tbody>\n",
       "    <tr>\n",
       "      <th>0</th>\n",
       "      <td>2020-01-02</td>\n",
       "      <td>glo</td>\n",
       "      <td>의자</td>\n",
       "      <td>가전제품 및 인테리어</td>\n",
       "      <td>42500</td>\n",
       "      <td>19</td>\n",
       "      <td>35275</td>\n",
       "      <td>807500</td>\n",
       "      <td>137275</td>\n",
       "    </tr>\n",
       "    <tr>\n",
       "      <th>1</th>\n",
       "      <td>2020-01-03</td>\n",
       "      <td>DOROKO</td>\n",
       "      <td>엔진오일</td>\n",
       "      <td>자동차관련</td>\n",
       "      <td>18200</td>\n",
       "      <td>14</td>\n",
       "      <td>11830</td>\n",
       "      <td>254800</td>\n",
       "      <td>89180</td>\n",
       "    </tr>\n",
       "    <tr>\n",
       "      <th>2</th>\n",
       "      <td>2020-01-06</td>\n",
       "      <td>송샘</td>\n",
       "      <td>오감자</td>\n",
       "      <td>과자</td>\n",
       "      <td>15900</td>\n",
       "      <td>11</td>\n",
       "      <td>15264</td>\n",
       "      <td>174900</td>\n",
       "      <td>6996</td>\n",
       "    </tr>\n",
       "    <tr>\n",
       "      <th>3</th>\n",
       "      <td>2020-01-16</td>\n",
       "      <td>송샘</td>\n",
       "      <td>오레오</td>\n",
       "      <td>과자</td>\n",
       "      <td>48700</td>\n",
       "      <td>12</td>\n",
       "      <td>33603</td>\n",
       "      <td>584400</td>\n",
       "      <td>181164</td>\n",
       "    </tr>\n",
       "    <tr>\n",
       "      <th>4</th>\n",
       "      <td>2020-01-17</td>\n",
       "      <td>DOROKO</td>\n",
       "      <td>바나나킥</td>\n",
       "      <td>과자</td>\n",
       "      <td>22400</td>\n",
       "      <td>15</td>\n",
       "      <td>18816</td>\n",
       "      <td>336000</td>\n",
       "      <td>53760</td>\n",
       "    </tr>\n",
       "  </tbody>\n",
       "</table>\n",
       "</div>"
      ]
     },
     "metadata": {},
     "execution_count": 62
    }
   ],
   "metadata": {}
  },
  {
   "cell_type": "code",
   "execution_count": 63,
   "source": [
    "df.to_csv('data/sales_book.csv', index=False)"
   ],
   "outputs": [],
   "metadata": {}
  },
  {
   "cell_type": "code",
   "execution_count": 64,
   "source": [
    "conn.close()\r\n",
    "cur.close()"
   ],
   "outputs": [],
   "metadata": {}
  }
 ],
 "metadata": {
  "orig_nbformat": 4,
  "language_info": {
   "name": "python",
   "version": "3.8.10",
   "mimetype": "text/x-python",
   "codemirror_mode": {
    "name": "ipython",
    "version": 3
   },
   "pygments_lexer": "ipython3",
   "nbconvert_exporter": "python",
   "file_extension": ".py"
  },
  "kernelspec": {
   "name": "python3",
   "display_name": "Python 3.8.10 64-bit ('base': conda)"
  },
  "interpreter": {
   "hash": "345fc451c7e0336b9390ad1fad588039702f89ec6d37597eff879e480e25ffdb"
  }
 },
 "nbformat": 4,
 "nbformat_minor": 2
}